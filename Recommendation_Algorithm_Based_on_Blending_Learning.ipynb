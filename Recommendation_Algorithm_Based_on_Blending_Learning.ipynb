{
  "nbformat": 4,
  "nbformat_minor": 0,
  "metadata": {
    "colab": {
      "name": "Recommendation_Algorithm_Based_on_Blending_Learning.ipynb",
      "provenance": [],
      "authorship_tag": "ABX9TyOn5suNoA52sHRHdFGdK7uV",
      "include_colab_link": true
    },
    "kernelspec": {
      "name": "python3",
      "display_name": "Python 3"
    },
    "language_info": {
      "name": "python"
    }
  },
  "cells": [
    {
      "cell_type": "markdown",
      "metadata": {
        "id": "view-in-github",
        "colab_type": "text"
      },
      "source": [
        "<a href=\"https://colab.research.google.com/github/fayazmalik503/Recommendation_Algorithm_Based_on_Blending_Learning/blob/main/Recommendation_Algorithm_Based_on_Blending_Learning.ipynb\" target=\"_parent\"><img src=\"https://colab.research.google.com/assets/colab-badge.svg\" alt=\"Open In Colab\"/></a>"
      ]
    },
    {
      "cell_type": "code",
      "execution_count": 3,
      "metadata": {
        "id": "mCC7WC9x0LTn"
      },
      "outputs": [],
      "source": [
        "# Recommendation Algorithm Based on Blending Learning"
      ]
    },
    {
      "cell_type": "code",
      "source": [
        ""
      ],
      "metadata": {
        "id": "PkIuAjwF0Xpo"
      },
      "execution_count": 3,
      "outputs": []
    }
  ]
}