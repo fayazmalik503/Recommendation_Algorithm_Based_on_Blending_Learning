{
  "nbformat": 4,
  "nbformat_minor": 0,
  "metadata": {
    "colab": {
      "name": "Recommendation_Algorithm_Based_on_Blending_Learning.ipynb",
      "provenance": [],
      "collapsed_sections": [],
      "authorship_tag": "ABX9TyOKUoVZu84xw7ZVp8Cx9EE+",
      "include_colab_link": true
    },
    "kernelspec": {
      "name": "python3",
      "display_name": "Python 3"
    },
    "language_info": {
      "name": "python"
    }
  },
  "cells": [
    {
      "cell_type": "markdown",
      "metadata": {
        "id": "view-in-github",
        "colab_type": "text"
      },
      "source": [
        "<a href=\"https://colab.research.google.com/github/fayazmalik503/Recommendation_Algorithm_Based_on_Blending_Learning/blob/main/Recommendation_Algorithm_Based_on_Blending_Learning.ipynb\" target=\"_parent\"><img src=\"https://colab.research.google.com/assets/colab-badge.svg\" alt=\"Open In Colab\"/></a>"
      ]
    },
    {
      "cell_type": "code",
      "execution_count": 1,
      "metadata": {
        "id": "mCC7WC9x0LTn"
      },
      "outputs": [],
      "source": [
        "# Recommendation Algorithm Based on Blending Learning"
      ]
    },
    {
      "cell_type": "markdown",
      "source": [
        "**MetricRating.py**"
      ],
      "metadata": {
        "id": "WrdxgbVuqkNL"
      }
    },
    {
      "cell_type": "code",
      "source": [
        "import os\n",
        "import tensorflow as tf\n",
        "import numpy as np\n",
        "from sklearn.linear_model import LogisticRegressionCV, LogisticRegression\n",
        "import matplotlib as mpl\n",
        "from sklearn.model_selection import train_test_split\n",
        "from sklearn.preprocessing import MinMaxScaler\n",
        "import matplotlib.pyplot as plt\n",
        "import sys\n",
        "\n",
        "os.environ[\"CUDA_VISIBLE_DEVICES\"] = \"0\"\n",
        "import time\n",
        "def get_time_dif(start_time):\n",
        " '''get the running time'''\n",
        " time_dif = time.time() - start_time\n",
        " return time_dif\n",
        "\n",
        "\n",
        " class MetricFRating():\n",
        "  def __init__(self ,sess, num_users, num_items, learning_rate = 0.05, epoch=200, N = 150, dropout=0.01, batch_size=256):\n",
        "    self.lr = learning_rate\n",
        "    self.epochs = epoch\n",
        "    self.N = N\n",
        "    self.keep_prob = 1 - dropout\n",
        "    self.num_users = num_users\n",
        "    self.num_items = num_items\n",
        "    self.batch_size = batch_size\n",
        "    self.sess = sess\n",
        "    self.max_rating = 5\n",
        "    self.min_rating = 0\n",
        "    self.clip_norm = 1.0\n",
        "    self.confidence = 0.2\n",
        "\n",
        "  def run(self, train_data, test_data):\n",
        "    # with tf.device('/cpu:0'):\n",
        "    self.cf_user_input = tf.placeholder(dtype=tf.int32, shape=[None], name='cf_user_input')\n",
        "    self.cf_item_input = tf.placeholder(dtype=tf.int32, shape=[None], name='cf_item_input')\n",
        "    self.y = tf.placeholder(\"float\", [None], 'y')\n",
        "\n",
        "    U = tf.Variable(tf.random_normal([self.num_users, self.N], mean=0.08, stddev=0.03), dtype=tf.float32)\n",
        "    V = tf.Variable(tf.random_normal([self.num_items, self.N], mean=0.08, stddev=0.03), dtype=tf.float32)\n",
        "    B_u = tf.Variable(tf.random_normal([self.num_users], stddev=0.001))\n",
        "    B_v = tf.Variable(tf.random_normal([self.num_items], stddev=0.001))\n",
        "    bias_u = tf.nn.embedding_lookup(B_u ,self.cf_user_input)\n",
        "    bias_v = tf.nn.embedding_lookup(B_v ,self.cf_item_input)\n",
        "    users = tf.nn.embedding_lookup(U ,self.cf_user_input)\n",
        "    pos_items = tf.nn.embedding_lookup(V, self.cf_item_input)\n",
        "    temp = train_data.tocoo()\n",
        "    item = list(temp.col.reshape(-1))\n",
        "    user = list(temp.row.reshape(-1))\n",
        "    rating = list(temp.data)\n",
        "    mu = np.mean(rating)\n",
        "\n",
        "    self.pos_distances = tf.clip_by_value( tf.reduce_sum( tf.square(users - pos_items), 1) + bias_u + bias_v + (self.max_rating - mu),self.min_rating, self.max_rating)\n",
        "    self.pred_distances = tf.clip_by_value(tf.reduce_sum( tf.nn.dropout(tf.square(users -pos_items), self.keep_prob) ,1) + bias_u + bias_v + (self.max_rating - mu) , self.min_rating, self.max_rating) \n",
        "    self.loss = tf.reduce_sum( ( 1 + self.confidence * tf.abs(self.y - (self.max_rating )/2)) * tf.square( (self.max_rating - self.y ) - self.pred_distances)) + 0.05* (tf.norm(B_u) + tf.norm(B_v) )\n",
        "    self.optimizer = tf.train.AdagradOptimizer(self.lr).minimize(self.loss)\n",
        "    clip_U = tf.assign(U, tf.clip_by_norm(U, self.clip_norm, axes=[1]))\n",
        "    clip_V = tf.assign(V, tf.clip_by_norm(V, self.clip_norm, axes=[1]))\n",
        "    init = tf.global_variables_initializer()\n",
        "    self.sess.run(init)\n",
        "    start_time = time.time()\n",
        "\n",
        "    for epoch in range(self.epochs):\n",
        "      self.num_training = len(rating)\n",
        "      total_batch = int(self.num_training / self.batch_size)\n",
        "      idxs = np.random.permutation(self.num_training)\n",
        "      user_random = list(np.array(user)[idxs])\n",
        "      item_random = list(np.array(item)[idxs])\n",
        "      rating_random = list(np.array(rating)[idxs])\n",
        "    \n",
        "    for i in range(total_batch):\n",
        "      batch_user = user_random[i * self.batch_size:(i + 1) * self.batch_size]\n",
        "      batch_item = item_random[i * self.batch_size:(i + 1) * self.batch_size]\n",
        "      batch_rating = rating_random[i * self.batch_size:(i + 1) * self.batch_size]\n",
        "      _, c, _, _ = self.sess.run((self.optimizer, self.loss, clip_U, clip_V), \n",
        "      feed_dict={self.cf_user_input: batch_user,self.cf_item_input: batch_item, self.y: \n",
        "      batch_rating})\n",
        "      avg_cost = c\n",
        "      if i % 1000 == 0:\n",
        "        print(\"Index: %04d; Epoch: %04d; loss = %.9f; time = %.4f\" % (i + 1, epoch, np.mean(avg_cost), get_time_dif(start_time)))\n",
        "      # if (epoch) % 10 == 0 :\n",
        "      if epoch == self.epochs-1 :#(epoch+1) % 200 == 0 or epoch == self.epochs-1:\n",
        "        self.predict_ratings = []\n",
        "        self.actual_ratings = []\n",
        "        error = 0\n",
        "        error_mae = 0\n",
        "\n",
        "        for i in range(len(test_data)):\n",
        "          pred_rating_test = self.max_rating - self.sess.run([self.pos_distances]          ,feed_dict={self.cf_user_input: [test_data['user_id'][i]-1], \n",
        "          self.cf_item_input: [test_data['item_id'][i]-1]})[0] \n",
        "          if pred_rating_test < 0:\n",
        "            pred_rating_test = 0\n",
        "          elif pred_rating_test > self.max_rating:\n",
        "            pred_rating_test = self.max_rating\n",
        "\n",
        "          self.predict_ratings.append(float(pred_rating_test))\n",
        "          self.actual_ratings.append(float(test_data['rating'][i]))\n",
        "          error += (float(test_data['rating'][i]) - pred_rating_test) ** 2\n",
        "          error_mae += (np.abs(float(test_data['rating'][i] ) - pred_rating_test))\n",
        "          # RMSE=str(np.sqrt(error / len(test_data))[0])\n",
        "          # MAE=str(np.sqrt(error / len(test_data))[0])\n",
        "        \n",
        "        print(\"RMSE:\" + str(np.sqrt(error / len(test_data))[0]) + \"; MAE:\"+str((error_mae / len(test_data)) [0]) )\n",
        "        \n",
        "\n",
        "class MetricPre(object):\n",
        "  def __init__(self):\n",
        "    print(\"begin train:\")\n",
        "\n",
        "  def get_prediction(self,test=0):\n",
        "    train_data, test_data, n_user, n_item, neg_user_item_matrix, train_user_item_matrix, unqiue = load_rating_data( test, test_size=0.1, sep=\" \")\n",
        "    with tf.Session() as sess:\n",
        "      model = MetricFRating(sess, n_user, n_item)\n",
        "      model.run(train_data, test_data)\n",
        "      preds = model.predict_ratings\n",
        "    return preds\n",
        "\n",
        "    "
      ],
      "metadata": {
        "id": "PkIuAjwF0Xpo"
      },
      "execution_count": 7,
      "outputs": []
    },
    {
      "cell_type": "markdown",
      "source": [
        "**Bleding Learning.py**\n",
        "\n",
        "The val_pres and test_pres is used for save the rating prediction of each model, and \n",
        "then we used the liner regression to get a weight of each model by val_pres and real \n",
        "rating data"
      ],
      "metadata": {
        "id": "0RxqF40gsuX4"
      }
    },
    {
      "cell_type": "code",
      "source": [
        "!pip install surprise"
      ],
      "metadata": {
        "id": "CiCPbCsOAeGD"
      },
      "execution_count": null,
      "outputs": []
    },
    {
      "cell_type": "code",
      "source": [
        "!pip install loaddata3 import *"
      ],
      "metadata": {
        "colab": {
          "base_uri": "https://localhost:8080/"
        },
        "id": "gd1SNG0BA6uD",
        "outputId": "54509f70-08aa-40cd-934f-3211d134f151"
      },
      "execution_count": 16,
      "outputs": [
        {
          "output_type": "stream",
          "name": "stdout",
          "text": [
            "Looking in indexes: https://pypi.org/simple, https://us-python.pkg.dev/colab-wheels/public/simple/\n",
            "\u001b[31mERROR: Could not find a version that satisfies the requirement loaddata3 (from versions: none)\u001b[0m\n",
            "\u001b[31mERROR: No matching distribution found for loaddata3\u001b[0m\n"
          ]
        }
      ]
    },
    {
      "cell_type": "code",
      "source": [
        "import numpy as np\n",
        "import pandas as pd\n",
        "import os, sys\n",
        "from surprise import SVD,SVDpp,NMF,SlopeOne,KNNBasic,KNNWithMeans\n",
        "# from MetricRating import MetricPre\n",
        "from surprise import Dataset\n",
        "from surprise import accuracy\n",
        "from surprise.model_selection import train_test_split\n",
        "import time\n",
        "now=time.strftime('%m-%d-%H',time.localtime(time.time()))\n",
        "# data = Dataset.load_builtin('ml-100k')\n",
        "'''config'''\n",
        "clfs=[ SlopeOne(),SVD()]\n",
        "print('SlopeOne,SVD,MF ' )\n",
        "dataname='movie'\n",
        "from surprise import Dataset,Reader\n",
        "#the path of the rating data\n",
        "file_path=os.path.expanduser('../data/'+dataname+'_ratings.txt')#movie/filmtrust \n",
        "#tell the reader the format of the text\n",
        "reader = Reader(line_format='user item rating timestamp', sep='\\t') #movie\n",
        "# reader = Reader(line_format='user item rating', sep=' ') #ft\n",
        "\n",
        "#load data\n",
        "data=Dataset.load_from_file(file_path,reader=reader)\n",
        "#split the data into three part:train ,validation ,test,the data will also be loaded in \n",
        "MetricF model after being saved in csv \n",
        "train_origin, test_origin = train_test_split(data, test_size=.1) \n",
        "valset=test_origin[0:int(len(test_origin)/2)]\n",
        "testset=test_origin[(int(len(test_origin)/2)):]\n",
        "val= pd.DataFrame(valset)\n",
        "test = pd.DataFrame(testset)\n",
        "val.to_csv('../ensemble/'+dataname+'-\n",
        "valset0.1blend'+now+'.csv',index=False,header=False,sep=',')\n",
        "test.to_csv('../ensemble/'+dataname+'-\n",
        "testset0.1blend'+now+'.csv',index=False,header=False,sep=',')\n",
        "\n",
        "#train model\n",
        "val_pres = np.zeros((len(valset), (len(clfs)+1))) #+MF\n",
        "test_pres = np.zeros((len(testset), (len(clfs)+1)))\n",
        "\n",
        "for j, clf in enumerate(clfs):\n",
        "  start=time.time()\n",
        "  algo = clf\n",
        "  algo.fit(train_origin)\n",
        "  val_predictions = algo.test(valset)\n",
        "  test_predictions = algo.test(testset)\n",
        "  val_pre = []\n",
        "  test_pre = []\n",
        "  val_real=[]\n",
        "  test_real = []\n",
        "  for i in range(len(val_predictions)):\n",
        "  val_pre.append(val_predictions[i][3])\n",
        "  for i in range(len(test_predictions)):\n",
        "  test_pre.append(test_predictions[i][3])\n",
        "  for i in range(len(val_predictions)):\n",
        "  val_real.append(val_predictions[i][2]) \n",
        "  for i in range(len(test_predictions)):\n",
        "  test_real.append(test_predictions[i][2])\n",
        "  val_pres[:, j] =val_pre #list +1\n",
        "  test_pres[:, j] = test_pre\n",
        "  end=time.time()\n",
        "  print('the model'+str(j+1)+'takes time:'+str(end-start)+'s')\n",
        "  print('validation set：')\n",
        "\n",
        "accuracy.rmse(val_predictions)\n",
        " accuracy.mae(val_predictions)\n",
        " print('test set：')\n",
        " accuracy.rmse(test_predictions)\n",
        " accuracy.mae(test_predictions)\n",
        "np.save('../ensemble/val_pres.npy', val_pres)\n",
        "np.save('../ensemble/val_real.npy', val_real)\n",
        "np.save('../ensemble/test_pres.npy', test_pres)\n",
        "np.save('../ensemble/test_real.npy', test_real)\n",
        "start1 = time.time()\n",
        "mf=MetricPre()\n",
        "val_pres[:, j+1] = mf.get_prediction(0) # \n",
        "test_pres[:, j+1] = mf.get_prediction(1) # \n",
        "end1= time.time()\n",
        "print('the model'+str(j+2)+'takes time:' + str(end1 - start1) + 's')\n",
        "np.save( '../ensemble/val_pres0.1_blend'+now+'.npy'+time, val_pres)\n",
        "np.save('../ensemble/test_pres0.1_blend'+now+'.npy', test_pres)\n",
        "np.save('../ensemble/val_real0.1_blend'+now+'.npy', val_real)\n",
        "np.save('../ensemble/test_real0.1_blend'+now+'.npy', test_real)\n",
        "from sklearn.linear_model import LinearRegression\n",
        "clf = LinearRegression()\n",
        "clf.fit(val_pres, val_real)\n",
        "clf.score(val_pres, val_real)\n",
        "pref=clf.predict(test_pres)\n",
        "error=0\n",
        "error_mae=0\n",
        "for i in range(len(test_real)):\n",
        " error += (test_real[i] - pref[i]) ** 2\n",
        " error_mae += (np.abs(test_real[i] - pref[i]))\n",
        "print(\"blend’s RMSE:\" + str( np.sqrt(error / len(pref)) ) + \"; MAE:\" + str((error_mae \n",
        "/ len(pref))))"
      ],
      "metadata": {
        "colab": {
          "base_uri": "https://localhost:8080/",
          "height": 135
        },
        "id": "tY53nQKaAPwf",
        "outputId": "3c6c588a-d643-48f7-fc43-5ce4e3ec1d26"
      },
      "execution_count": 23,
      "outputs": [
        {
          "output_type": "error",
          "ename": "SyntaxError",
          "evalue": "ignored",
          "traceback": [
            "\u001b[0;36m  File \u001b[0;32m\"<ipython-input-23-e95486342627>\"\u001b[0;36m, line \u001b[0;32m26\u001b[0m\n\u001b[0;31m    MetricF model after being saved in csv\u001b[0m\n\u001b[0m                ^\u001b[0m\n\u001b[0;31mSyntaxError\u001b[0m\u001b[0;31m:\u001b[0m invalid syntax\n"
          ]
        }
      ]
    }
  ]
}